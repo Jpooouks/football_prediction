{
 "cells": [
  {
   "cell_type": "markdown",
   "id": "fb1c674b-2919-433a-ae9e-3a88d0c20757",
   "metadata": {},
   "source": [
    "# Imports"
   ]
  },
  {
   "cell_type": "code",
   "execution_count": 1,
   "id": "450ee783-7aed-42c9-bf11-4de199e2e0ca",
   "metadata": {},
   "outputs": [],
   "source": [
    "import pandas as pd\n",
    "import numpy as np\n",
    "import matplotlib.pyplot as plt\n",
    "import seaborn as sns\n",
    "import sqlite3\n",
    "import scipy.stats as stats\n",
    "import statsmodels.api as sm\n",
    "from helpers import *"
   ]
  },
  {
   "cell_type": "markdown",
   "id": "75b6c729-d049-470c-9c23-ec9bb2bb38c5",
   "metadata": {},
   "source": [
    "# Loading the data"
   ]
  },
  {
   "cell_type": "markdown",
   "id": "187d54f9-5114-44a7-96b4-98b6b7bad338",
   "metadata": {},
   "source": [
    "## Tables"
   ]
  },
  {
   "cell_type": "code",
   "execution_count": 2,
   "id": "773e6e9c-e7f8-46fa-b093-12a1fc065f30",
   "metadata": {},
   "outputs": [
    {
     "data": {
      "text/plain": [
       "['sqlite_sequence',\n",
       " 'Player_Attributes',\n",
       " 'Player',\n",
       " 'Match',\n",
       " 'League',\n",
       " 'Country',\n",
       " 'Team',\n",
       " 'Team_Attributes']"
      ]
     },
     "execution_count": 2,
     "metadata": {},
     "output_type": "execute_result"
    }
   ],
   "source": [
    "with sqlite3.connect('database.sqlite') as con:\n",
    "    tables = list(pd.read_sql_query(\n",
    "        \"select name from sqlite_master where type='table';\", con)['name'])\n",
    "tables"
   ]
  },
  {
   "cell_type": "markdown",
   "id": "99aa2272-7dbb-47d8-9e58-8d702825087e",
   "metadata": {},
   "source": [
    "## Schema"
   ]
  },
  {
   "cell_type": "markdown",
   "id": "effb69fd-4b1b-4d32-9ac4-fa78e5151468",
   "metadata": {},
   "source": [
    "### Table content"
   ]
  },
  {
   "cell_type": "code",
   "execution_count": 3,
   "id": "bde9af46-1dce-4b37-9710-b2b5d979bd44",
   "metadata": {},
   "outputs": [
    {
     "name": "stdout",
     "output_type": "stream",
     "text": [
      "sqlite_sequence table:\n",
      " ['name', 'seq']\n",
      "\n",
      "\n",
      "Player_Attributes table:\n",
      " ['id', 'player_fifa_api_id', 'player_api_id', 'date', 'overall_rating', 'potential', 'preferred_foot', 'attacking_work_rate', 'defensive_work_rate', 'crossing', 'finishing', 'heading_accuracy', 'short_passing', 'volleys', 'dribbling', 'curve', 'free_kick_accuracy', 'long_passing', 'ball_control', 'acceleration', 'sprint_speed', 'agility', 'reactions', 'balance', 'shot_power', 'jumping', 'stamina', 'strength', 'long_shots', 'aggression', 'interceptions', 'positioning', 'vision', 'penalties', 'marking', 'standing_tackle', 'sliding_tackle', 'gk_diving', 'gk_handling', 'gk_kicking', 'gk_positioning', 'gk_reflexes']\n",
      "\n",
      "\n",
      "Player table:\n",
      " ['id', 'player_api_id', 'player_name', 'player_fifa_api_id', 'birthday', 'height', 'weight']\n",
      "\n",
      "\n",
      "Match table:\n",
      " ['id', 'country_id', 'league_id', 'season', 'stage', 'date', 'match_api_id', 'home_team_api_id', 'away_team_api_id', 'home_team_goal', 'away_team_goal', 'home_player_X1', 'home_player_X2', 'home_player_X3', 'home_player_X4', 'home_player_X5', 'home_player_X6', 'home_player_X7', 'home_player_X8', 'home_player_X9', 'home_player_X10', 'home_player_X11', 'away_player_X1', 'away_player_X2', 'away_player_X3', 'away_player_X4', 'away_player_X5', 'away_player_X6', 'away_player_X7', 'away_player_X8', 'away_player_X9', 'away_player_X10', 'away_player_X11', 'home_player_Y1', 'home_player_Y2', 'home_player_Y3', 'home_player_Y4', 'home_player_Y5', 'home_player_Y6', 'home_player_Y7', 'home_player_Y8', 'home_player_Y9', 'home_player_Y10', 'home_player_Y11', 'away_player_Y1', 'away_player_Y2', 'away_player_Y3', 'away_player_Y4', 'away_player_Y5', 'away_player_Y6', 'away_player_Y7', 'away_player_Y8', 'away_player_Y9', 'away_player_Y10', 'away_player_Y11', 'home_player_1', 'home_player_2', 'home_player_3', 'home_player_4', 'home_player_5', 'home_player_6', 'home_player_7', 'home_player_8', 'home_player_9', 'home_player_10', 'home_player_11', 'away_player_1', 'away_player_2', 'away_player_3', 'away_player_4', 'away_player_5', 'away_player_6', 'away_player_7', 'away_player_8', 'away_player_9', 'away_player_10', 'away_player_11', 'goal', 'shoton', 'shotoff', 'foulcommit', 'card', 'cross', 'corner', 'possession', 'B365H', 'B365D', 'B365A', 'BWH', 'BWD', 'BWA', 'IWH', 'IWD', 'IWA', 'LBH', 'LBD', 'LBA', 'PSH', 'PSD', 'PSA', 'WHH', 'WHD', 'WHA', 'SJH', 'SJD', 'SJA', 'VCH', 'VCD', 'VCA', 'GBH', 'GBD', 'GBA', 'BSH', 'BSD', 'BSA']\n",
      "\n",
      "\n",
      "League table:\n",
      " ['id', 'country_id', 'name']\n",
      "\n",
      "\n",
      "Country table:\n",
      " ['id', 'name']\n",
      "\n",
      "\n",
      "Team table:\n",
      " ['id', 'team_api_id', 'team_fifa_api_id', 'team_long_name', 'team_short_name']\n",
      "\n",
      "\n",
      "Team_Attributes table:\n",
      " ['id', 'team_fifa_api_id', 'team_api_id', 'date', 'buildUpPlaySpeed', 'buildUpPlaySpeedClass', 'buildUpPlayDribbling', 'buildUpPlayDribblingClass', 'buildUpPlayPassing', 'buildUpPlayPassingClass', 'buildUpPlayPositioningClass', 'chanceCreationPassing', 'chanceCreationPassingClass', 'chanceCreationCrossing', 'chanceCreationCrossingClass', 'chanceCreationShooting', 'chanceCreationShootingClass', 'chanceCreationPositioningClass', 'defencePressure', 'defencePressureClass', 'defenceAggression', 'defenceAggressionClass', 'defenceTeamWidth', 'defenceTeamWidthClass', 'defenceDefenderLineClass']\n"
     ]
    }
   ],
   "source": [
    "print(*list(f'{i} table:\\n {list(pd.read_sql_query(f\"select * from {i} limit 0\", con).columns)}'\n",
    "        for i in tables), sep='\\n\\n\\n')"
   ]
  },
  {
   "cell_type": "markdown",
   "id": "952d36c9-f06f-46d9-83d1-c99b0abeb9ff",
   "metadata": {},
   "source": [
    "### Primary and foreign keys"
   ]
  },
  {
   "cell_type": "code",
   "execution_count": 6,
   "id": "5215faea-e502-40e4-ba0d-7862459c1721",
   "metadata": {},
   "outputs": [
    {
     "data": {
      "text/html": [
       "<div>\n",
       "<style scoped>\n",
       "    .dataframe tbody tr th:only-of-type {\n",
       "        vertical-align: middle;\n",
       "    }\n",
       "\n",
       "    .dataframe tbody tr th {\n",
       "        vertical-align: top;\n",
       "    }\n",
       "\n",
       "    .dataframe thead th {\n",
       "        text-align: right;\n",
       "    }\n",
       "</style>\n",
       "<table border=\"1\" class=\"dataframe\">\n",
       "  <thead>\n",
       "    <tr style=\"text-align: right;\">\n",
       "      <th></th>\n",
       "      <th>Primary Keys</th>\n",
       "      <th>Foreign Keys</th>\n",
       "    </tr>\n",
       "  </thead>\n",
       "  <tbody>\n",
       "    <tr>\n",
       "      <th>Player_Attributes</th>\n",
       "      <td>[id]</td>\n",
       "      <td>[(player_api_id, Player, 0), (player_fifa_api_id, Player, 1)]</td>\n",
       "    </tr>\n",
       "    <tr>\n",
       "      <th>Player</th>\n",
       "      <td>[id]</td>\n",
       "      <td>[]</td>\n",
       "    </tr>\n",
       "    <tr>\n",
       "      <th>Match</th>\n",
       "      <td>[id]</td>\n",
       "      <td>[(away_player_11, Player, 0), (away_player_10, Player, 1), (away_player_9, Player, 2), (away_player_8, Player, 3), (away_player_7, Player, 4), (away_player_6, Player, 5), (away_player_5, Player, 6), (away_player_4, Player, 7), (away_player_3, Player, 8), (away_player_2, Player, 9), (away_player_1, Player, 10), (home_player_11, Player, 11), (home_player_10, Player, 12), (home_player_9, Player, 13), (home_player_8, Player, 14), (home_player_7, Player, 15), (home_player_6, Player, 16), (home_player_5, Player, 17), (home_player_4, Player, 18), (home_player_3, Player, 19), (home_player_2, Player, 20), (home_player_1, Player, 21), (away_team_api_id, Team, 22), (home_team_api_id, Team, 23), (league_id, League, 24), (country_id, country, 25)]</td>\n",
       "    </tr>\n",
       "    <tr>\n",
       "      <th>League</th>\n",
       "      <td>[id]</td>\n",
       "      <td>[(country_id, country, 0)]</td>\n",
       "    </tr>\n",
       "    <tr>\n",
       "      <th>Country</th>\n",
       "      <td>[id]</td>\n",
       "      <td>[]</td>\n",
       "    </tr>\n",
       "    <tr>\n",
       "      <th>Team</th>\n",
       "      <td>[id]</td>\n",
       "      <td>[]</td>\n",
       "    </tr>\n",
       "    <tr>\n",
       "      <th>Team_Attributes</th>\n",
       "      <td>[id]</td>\n",
       "      <td>[(team_api_id, Team, 0), (team_fifa_api_id, Team, 1)]</td>\n",
       "    </tr>\n",
       "  </tbody>\n",
       "</table>\n",
       "</div>"
      ],
      "text/plain": [
       "                  Primary Keys  \\\n",
       "Player_Attributes         [id]   \n",
       "Player                    [id]   \n",
       "Match                     [id]   \n",
       "League                    [id]   \n",
       "Country                   [id]   \n",
       "Team                      [id]   \n",
       "Team_Attributes           [id]   \n",
       "\n",
       "                                                                                                                                                                                                                                                                                                                                                                                                                                                                                                                                                                                                                                                                                                                                                                               Foreign Keys  \n",
       "Player_Attributes                                                                                                                                                                                                                                                                                                                                                                                                                                                                                                                                                                                                                                                                                                             [(player_api_id, Player, 0), (player_fifa_api_id, Player, 1)]  \n",
       "Player                                                                                                                                                                                                                                                                                                                                                                                                                                                                                                                                                                                                                                                                                                                                                                                   []  \n",
       "Match              [(away_player_11, Player, 0), (away_player_10, Player, 1), (away_player_9, Player, 2), (away_player_8, Player, 3), (away_player_7, Player, 4), (away_player_6, Player, 5), (away_player_5, Player, 6), (away_player_4, Player, 7), (away_player_3, Player, 8), (away_player_2, Player, 9), (away_player_1, Player, 10), (home_player_11, Player, 11), (home_player_10, Player, 12), (home_player_9, Player, 13), (home_player_8, Player, 14), (home_player_7, Player, 15), (home_player_6, Player, 16), (home_player_5, Player, 17), (home_player_4, Player, 18), (home_player_3, Player, 19), (home_player_2, Player, 20), (home_player_1, Player, 21), (away_team_api_id, Team, 22), (home_team_api_id, Team, 23), (league_id, League, 24), (country_id, country, 25)]  \n",
       "League                                                                                                                                                                                                                                                                                                                                                                                                                                                                                                                                                                                                                                                                                                                                                           [(country_id, country, 0)]  \n",
       "Country                                                                                                                                                                                                                                                                                                                                                                                                                                                                                                                                                                                                                                                                                                                                                                                  []  \n",
       "Team                                                                                                                                                                                                                                                                                                                                                                                                                                                                                                                                                                                                                                                                                                                                                                                     []  \n",
       "Team_Attributes                                                                                                                                                                                                                                                                                                                                                                                                                                                                                                                                                                                                                                                                                                                       [(team_api_id, Team, 0), (team_fifa_api_id, Team, 1)]  "
      ]
     },
     "metadata": {},
     "output_type": "display_data"
    }
   ],
   "source": [
    "db_path = 'database.sqlite'\n",
    "keys_info = pd.DataFrame(get_database_keys(db_path)).T[1:]\n",
    "with pd.option_context('display.max_colwidth', None):\n",
    "    display(keys_info)"
   ]
  },
  {
   "cell_type": "code",
   "execution_count": null,
   "id": "4a925a96-6938-4e13-8ac2-133a6d56390a",
   "metadata": {},
   "outputs": [],
   "source": []
  }
 ],
 "metadata": {
  "kernelspec": {
   "display_name": "Python 3 (ipykernel)",
   "language": "python",
   "name": "python3"
  },
  "language_info": {
   "codemirror_mode": {
    "name": "ipython",
    "version": 3
   },
   "file_extension": ".py",
   "mimetype": "text/x-python",
   "name": "python",
   "nbconvert_exporter": "python",
   "pygments_lexer": "ipython3",
   "version": "3.11.4"
  }
 },
 "nbformat": 4,
 "nbformat_minor": 5
}
